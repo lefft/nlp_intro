{
 "cells": [
  {
   "cell_type": "markdown",
   "metadata": {},
   "source": [
    "## Spam Classification Demo <hr>"
   ]
  },
  {
   "cell_type": "markdown",
   "metadata": {},
   "source": [
    "### 1. Data Acquisition"
   ]
  },
  {
   "cell_type": "code",
   "execution_count": 1,
   "metadata": {},
   "outputs": [],
   "source": [
    "import pandas as pd\n",
    "\n",
    "# read in data and reorganize a bit \n",
    "spam_data = 'data/uci_ml_spam.txt'\n",
    "dat = pd.read_csv(spam_data, names=['ham_spam', 'text'], sep='\\t')\n",
    "\n",
    "dat['label'] = dat.ham_spam == 'spam'\n",
    "dat = dat[['ham_spam', 'label', 'text']]"
   ]
  },
  {
   "cell_type": "code",
   "execution_count": 2,
   "metadata": {},
   "outputs": [
    {
     "name": "stdout",
     "output_type": "stream",
     "text": [
      "spam data dimensions: (5572, 3)\n",
      "  ham_spam  label                                               text\n",
      "0      ham  False  Go until jurong point, crazy.. Available only ...\n",
      "1      ham  False                      Ok lar... Joking wif u oni...\n",
      "2     spam   True  Free entry in 2 a wkly comp to win FA Cup fina...\n",
      "3      ham  False  U dun say so early hor... U c already then say...\n",
      "4      ham  False  Nah I don't think he goes to usf, he lives aro...\n"
     ]
    }
   ],
   "source": [
    "# inspect the dataset \n",
    "print('spam data dimensions: {shape}'.format(shape=dat.shape))\n",
    "print(dat.head(5))"
   ]
  },
  {
   "cell_type": "code",
   "execution_count": 4,
   "metadata": {},
   "outputs": [
    {
     "name": "stdout",
     "output_type": "stream",
     "text": [
      "distribution of labels:\n"
     ]
    },
    {
     "data": {
      "text/plain": [
       "ham     0.865937\n",
       "spam    0.134063\n",
       "Name: ham_spam, dtype: float64"
      ]
     },
     "execution_count": 4,
     "metadata": {},
     "output_type": "execute_result"
    }
   ],
   "source": [
    "print('distribution of labels:')\n",
    "dat.ham_spam.value_counts() / sum(dat.ham_spam.value_counts())"
   ]
  },
  {
   "cell_type": "code",
   "execution_count": 5,
   "metadata": {},
   "outputs": [],
   "source": [
    "from random import sample\n",
    "\n",
    "# test-train split \n",
    "train_idx = sample(range(len(dat)), int(len(dat)*.75))\n",
    "test_idx = [n for n in set(range(len(dat))) - set(train_idx)]\n",
    "\n",
    "train_text = list(dat.text.iloc[train_idx])\n",
    "train_labs = list(dat.label.iloc[train_idx])\n",
    "\n",
    "test_text = list(dat.text.iloc[test_idx])\n",
    "test_labs = list(dat.label.iloc[test_idx])\n"
   ]
  },
  {
   "cell_type": "code",
   "execution_count": 6,
   "metadata": {},
   "outputs": [
    {
     "data": {
      "text/plain": [
       "4179"
      ]
     },
     "execution_count": 6,
     "metadata": {},
     "output_type": "execute_result"
    }
   ],
   "source": [
    "len(train_text)"
   ]
  },
  {
   "cell_type": "markdown",
   "metadata": {},
   "source": [
    "### 2. Preprocessing"
   ]
  },
  {
   "cell_type": "code",
   "execution_count": 19,
   "metadata": {},
   "outputs": [],
   "source": [
    "from sklearn.feature_extraction.text import CountVectorizer,TfidfVectorizer\n",
    "\n",
    "# preprocess text (cast to a count-based document-term matrix)\n",
    "vectorizer = CountVectorizer(lowercase=True,\n",
    "                             ngram_range=(1,1),\n",
    "                             stop_words='english')\n",
    "train_dtm = vectorizer.fit_transform(train_text)\n",
    "\n",
    "# check out the transformed data \n",
    "# vectorizer.get_feature_names()[999:1011]\n",
    "# list(vectorizer.get_stop_words())[0:10]\n",
    "# vectorizer.get_params()\n",
    "# pd.DataFrame(train_dtm.A, columns=vectorizer.get_feature_names()).to_string())"
   ]
  },
  {
   "cell_type": "markdown",
   "metadata": {},
   "source": [
    "### Model Training"
   ]
  },
  {
   "cell_type": "code",
   "execution_count": 20,
   "metadata": {},
   "outputs": [
    {
     "data": {
      "text/plain": [
       "MultinomialNB(alpha=1.0, class_prior=None, fit_prior=True)"
      ]
     },
     "execution_count": 20,
     "metadata": {},
     "output_type": "execute_result"
    }
   ],
   "source": [
    "from sklearn.naive_bayes import MultinomialNB\n",
    "\n",
    "# model training \n",
    "clf = MultinomialNB()\n",
    "clf.fit(train_dtm, train_labs)"
   ]
  },
  {
   "cell_type": "markdown",
   "metadata": {},
   "source": [
    "### Model Evaluation"
   ]
  },
  {
   "cell_type": "code",
   "execution_count": 21,
   "metadata": {},
   "outputs": [],
   "source": [
    "# model evaluation \n",
    "test_dtm = vectorizer.transform(test_text)\n",
    "\n",
    "predictions = clf.predict(test_dtm)"
   ]
  },
  {
   "cell_type": "code",
   "execution_count": 22,
   "metadata": {},
   "outputs": [
    {
     "name": "stdout",
     "output_type": "stream",
     "text": [
      "out of the box accuracy: 0.985 (waow)\n"
     ]
    }
   ],
   "source": [
    "from sklearn import metrics\n",
    "\n",
    "accuracy = metrics.accuracy_score(test_labs, predictions)\n",
    "print(f'out of the box accuracy: {round(accuracy,3)} (waow)')"
   ]
  },
  {
   "cell_type": "code",
   "execution_count": 23,
   "metadata": {},
   "outputs": [
    {
     "name": "stdout",
     "output_type": "stream",
     "text": [
      "   label  prediction                                               text\n",
      "0  False       False  U dun say so early hor... U c already then say...\n",
      "1  False       False  Nah I don't think he goes to usf, he lives aro...\n",
      "2  False       False  As per your request 'Melle Melle (Oru Minnamin...\n",
      "3   True        True  WINNER!! As a valued network customer you have...\n",
      "4  False       False  I've been searching for the right words to tha...\n"
     ]
    }
   ],
   "source": [
    "eval_df = pd.DataFrame([*zip(test_labs, predictions, test_text)], \n",
    "                       columns=('label', 'prediction', 'text'))\n",
    "\n",
    "print(eval_df.head(5))"
   ]
  },
  {
   "cell_type": "code",
   "execution_count": 25,
   "metadata": {},
   "outputs": [
    {
     "name": "stdout",
     "output_type": "stream",
     "text": [
      "predicted  False  True \n",
      "observed               \n",
      "False       1196      8\n",
      "True          13    176\n"
     ]
    }
   ],
   "source": [
    "# can also add `margins=True` \n",
    "conf_mat = pd.crosstab(eval_df.label, eval_df.prediction, \n",
    "                       rownames=['observed'], colnames=['predicted'])\n",
    "\n",
    "print(conf_mat)"
   ]
  },
  {
   "cell_type": "code",
   "execution_count": 26,
   "metadata": {},
   "outputs": [
    {
     "name": "stdout",
     "output_type": "stream",
     "text": [
      "predicted  False  True \n",
      "observed               \n",
      "False      0.989  0.043\n",
      "True       0.011  0.957\n"
     ]
    }
   ],
   "source": [
    "# we can also view a confusion matrix with column-normalized values\n",
    "print(round(conf_mat / conf_mat.sum(axis=0), 3))"
   ]
  },
  {
   "cell_type": "code",
   "execution_count": 27,
   "metadata": {},
   "outputs": [
    {
     "name": "stdout",
     "output_type": "stream",
     "text": [
      "      label  prediction                                               text\n",
      "105   False        True   Yes:)from last week itself i'm taking live call.\n",
      "1186  False        True  I (Career Tel) have added u as a contact on IN...\n",
      "244   False        True                                       26th OF JULY\n",
      "331   False        True  Hey...Great deal...Farm tour 9am to 5pm $95/pa...\n",
      "1164  False        True            Have you laid your airtel line to rest?\n",
      "1154  False        True                            Gettin rdy to ship comp\n",
      "1103  False        True             Mathews or tait or edwards or anderson\n",
      "966   False        True                  Unlimited texts. Limited minutes.\n",
      "1075   True       False  thesmszone.com lets you send free anonymous an...\n",
      "1069   True       False  Block Breaker now comes in deluxe format with ...\n",
      "769    True       False  Hi babe its Jordan, how r u? Im home from abro...\n",
      "737    True       False   You have 1 new message. Please call 08712400200.\n",
      "706    True       False  INTERFLORA - It's not too late to order Inter...\n",
      "648    True       False  This message is brought to you by GMW Ltd. and...\n",
      "608    True       False  Babe: U want me dont u baby! Im nasty and have...\n",
      "565    True       False  Back 2 work 2morro half term over! Can U C me ...\n",
      "482    True       False  CALL 09090900040 & LISTEN TO EXTREME DIRTY LIV...\n",
      "419    True       False  0A$NETWORKS allow companies to bill for SMS, s...\n",
      "184    True       False  Do you realize that in about 40 years, we'll h...\n",
      "1239   True       False  You can donate £2.50 to UNICEF's Asian Tsunami...\n",
      "1275   True       False    You have 1 new message. Please call 08715205273\n"
     ]
    }
   ],
   "source": [
    "# look at the bad predictions \n",
    "print(eval_df[eval_df.label != eval_df.prediction].sort_values('label'))"
   ]
  },
  {
   "cell_type": "code",
   "execution_count": null,
   "metadata": {},
   "outputs": [],
   "source": []
  }
 ],
 "metadata": {
  "kernelspec": {
   "display_name": "Python [default]",
   "language": "python",
   "name": "python3"
  },
  "language_info": {
   "codemirror_mode": {
    "name": "ipython",
    "version": 3
   },
   "file_extension": ".py",
   "mimetype": "text/x-python",
   "name": "python",
   "nbconvert_exporter": "python",
   "pygments_lexer": "ipython3",
   "version": "3.6.4"
  }
 },
 "nbformat": 4,
 "nbformat_minor": 2
}
